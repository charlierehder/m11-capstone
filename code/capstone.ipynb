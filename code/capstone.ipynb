{
 "cells": [
  {
   "cell_type": "code",
   "execution_count": 16,
   "id": "5bee2f8c",
   "metadata": {},
   "outputs": [],
   "source": [
    "import pandas as pd\n",
    "import numpy as np\n",
    "import pymssql\n",
    "import yaml\n",
    "from yaml import Loader"
   ]
  },
  {
   "cell_type": "code",
   "execution_count": 17,
   "id": "e44814bc",
   "metadata": {},
   "outputs": [],
   "source": [
    "with open('secrets.yaml', 'r') as f:\n",
    "    configs = yaml.load(f, Loader=Loader)"
   ]
  },
  {
   "cell_type": "code",
   "execution_count": 21,
   "id": "0c7cf2dc",
   "metadata": {},
   "outputs": [
    {
     "name": "stderr",
     "output_type": "stream",
     "text": [
      "/home/charlie/m11-capstone/env/lib/python3.9/site-packages/pandas/io/sql.py:761: UserWarning: pandas only support SQLAlchemy connectable(engine/connection) ordatabase string URI or sqlite3 DBAPI2 connectionother DBAPI2 objects are not tested, please consider using SQLAlchemy\n",
      "  warnings.warn(\n",
      "/home/charlie/m11-capstone/env/lib/python3.9/site-packages/pandas/io/sql.py:761: UserWarning: pandas only support SQLAlchemy connectable(engine/connection) ordatabase string URI or sqlite3 DBAPI2 connectionother DBAPI2 objects are not tested, please consider using SQLAlchemy\n",
      "  warnings.warn(\n",
      "/home/charlie/m11-capstone/env/lib/python3.9/site-packages/pandas/io/sql.py:761: UserWarning: pandas only support SQLAlchemy connectable(engine/connection) ordatabase string URI or sqlite3 DBAPI2 connectionother DBAPI2 objects are not tested, please consider using SQLAlchemy\n",
      "  warnings.warn(\n",
      "/home/charlie/m11-capstone/env/lib/python3.9/site-packages/pandas/io/sql.py:761: UserWarning: pandas only support SQLAlchemy connectable(engine/connection) ordatabase string URI or sqlite3 DBAPI2 connectionother DBAPI2 objects are not tested, please consider using SQLAlchemy\n",
      "  warnings.warn(\n",
      "/home/charlie/m11-capstone/env/lib/python3.9/site-packages/pandas/io/sql.py:761: UserWarning: pandas only support SQLAlchemy connectable(engine/connection) ordatabase string URI or sqlite3 DBAPI2 connectionother DBAPI2 objects are not tested, please consider using SQLAlchemy\n",
      "  warnings.warn(\n",
      "/home/charlie/m11-capstone/env/lib/python3.9/site-packages/pandas/io/sql.py:761: UserWarning: pandas only support SQLAlchemy connectable(engine/connection) ordatabase string URI or sqlite3 DBAPI2 connectionother DBAPI2 objects are not tested, please consider using SQLAlchemy\n",
      "  warnings.warn(\n",
      "/home/charlie/m11-capstone/env/lib/python3.9/site-packages/pandas/io/sql.py:761: UserWarning: pandas only support SQLAlchemy connectable(engine/connection) ordatabase string URI or sqlite3 DBAPI2 connectionother DBAPI2 objects are not tested, please consider using SQLAlchemy\n",
      "  warnings.warn(\n"
     ]
    },
    {
     "data": {
      "text/html": [
       "<div>\n",
       "<style scoped>\n",
       "    .dataframe tbody tr th:only-of-type {\n",
       "        vertical-align: middle;\n",
       "    }\n",
       "\n",
       "    .dataframe tbody tr th {\n",
       "        vertical-align: top;\n",
       "    }\n",
       "\n",
       "    .dataframe thead th {\n",
       "        text-align: right;\n",
       "    }\n",
       "</style>\n",
       "<table border=\"1\" class=\"dataframe\">\n",
       "  <thead>\n",
       "    <tr style=\"text-align: right;\">\n",
       "      <th></th>\n",
       "      <th>Facility_ID</th>\n",
       "      <th>Payment</th>\n",
       "      <th>Lower_Estimate</th>\n",
       "      <th>Higher_Estimate</th>\n",
       "      <th>Payment_Category</th>\n",
       "      <th>Value_Of_Care_Category</th>\n",
       "    </tr>\n",
       "    <tr>\n",
       "      <th>Payment_ID</th>\n",
       "      <th></th>\n",
       "      <th></th>\n",
       "      <th></th>\n",
       "      <th></th>\n",
       "      <th></th>\n",
       "      <th></th>\n",
       "    </tr>\n",
       "  </thead>\n",
       "  <tbody>\n",
       "    <tr>\n",
       "      <th>1</th>\n",
       "      <td>020018</td>\n",
       "      <td>13461.0000</td>\n",
       "      <td>11689.5000</td>\n",
       "      <td>15405.5000</td>\n",
       "      <td>-0.5</td>\n",
       "      <td>-0.5</td>\n",
       "    </tr>\n",
       "    <tr>\n",
       "      <th>2</th>\n",
       "      <td>030064</td>\n",
       "      <td>20773.2500</td>\n",
       "      <td>18978.2500</td>\n",
       "      <td>22704.0000</td>\n",
       "      <td>0.25</td>\n",
       "      <td>0</td>\n",
       "    </tr>\n",
       "    <tr>\n",
       "      <th>3</th>\n",
       "      <td>100140</td>\n",
       "      <td>18872.6667</td>\n",
       "      <td>17511.3333</td>\n",
       "      <td>20323.3333</td>\n",
       "      <td>-0.333333</td>\n",
       "      <td>0</td>\n",
       "    </tr>\n",
       "    <tr>\n",
       "      <th>4</th>\n",
       "      <td>100320</td>\n",
       "      <td>18230.0000</td>\n",
       "      <td>16388.5000</td>\n",
       "      <td>20246.5000</td>\n",
       "      <td>0</td>\n",
       "      <td>0</td>\n",
       "    </tr>\n",
       "    <tr>\n",
       "      <th>5</th>\n",
       "      <td>110071</td>\n",
       "      <td>18356.0000</td>\n",
       "      <td>15727.0000</td>\n",
       "      <td>20892.0000</td>\n",
       "      <td>0</td>\n",
       "      <td>0</td>\n",
       "    </tr>\n",
       "  </tbody>\n",
       "</table>\n",
       "</div>"
      ],
      "text/plain": [
       "           Facility_ID     Payment  Lower_Estimate  Higher_Estimate  \\\n",
       "Payment_ID                                                            \n",
       "1               020018  13461.0000      11689.5000       15405.5000   \n",
       "2               030064  20773.2500      18978.2500       22704.0000   \n",
       "3               100140  18872.6667      17511.3333       20323.3333   \n",
       "4               100320  18230.0000      16388.5000       20246.5000   \n",
       "5               110071  18356.0000      15727.0000       20892.0000   \n",
       "\n",
       "           Payment_Category Value_Of_Care_Category  \n",
       "Payment_ID                                          \n",
       "1                      -0.5                   -0.5  \n",
       "2                      0.25                      0  \n",
       "3                 -0.333333                      0  \n",
       "4                         0                      0  \n",
       "5                         0                      0  "
      ]
     },
     "execution_count": 21,
     "metadata": {},
     "output_type": "execute_result"
    }
   ],
   "source": [
    "\n",
    "server = configs['data']['server']\n",
    "user = configs['data']['user']\n",
    "password = configs['data']['password']\n",
    "database = configs['data']['database']\n",
    "\n",
    "# define table strings\n",
    "efficiency_table = 'dbo.EfficiencyScores'\n",
    "safety_table = 'dbo.SafetyScores'\n",
    "outcomes_table = 'dbo.ClinicalOutcomeScores'\n",
    "community_table = 'dbo.EngagementScores'\n",
    "payment_table = 'dbo.PaymentAndValueOfCareVals'\n",
    "state_table = 'dbo.States'\n",
    "location_table = 'dbo.Locations'\n",
    "\n",
    "try:\n",
    "    # connect to database with above credentials\n",
    "    conn = pymssql.connect(server, user, password, database)\n",
    "    \n",
    "    # instantiate cursor\n",
    "    cursor = conn.cursor()\n",
    "    \n",
    "    # get efficiency data\n",
    "    efficiency_query = f'SELECT * FROM {efficiency_table}'\n",
    "    efficiency = pd.read_sql(efficiency_query, conn, index_col='Efficiency_ID')\n",
    "    \n",
    "    # get safety data\n",
    "    safety_query = f'SELECT * FROM {safety_table}'\n",
    "    safety = pd.read_sql(safety_query, conn, index_col='Safety_ID')\n",
    "    \n",
    "    # get outcomes data\n",
    "    outcomes_query = f'SELECT * FROM {outcomes_table}'\n",
    "    outcomes = pd.read_sql(outcomes_query, conn, index_col='ClinicalOutcome_ID')\n",
    "    \n",
    "    # get community data\n",
    "    community_query = f'SELECT * FROM {community_table}'\n",
    "    community = pd.read_sql(community_query, conn, 'EngagementScore_ID')\n",
    "    \n",
    "    #get payment data\n",
    "    payment_query = f'SELECT * FROM {payment_table}'\n",
    "    payment = pd.read_sql(payment_query, conn, index_col='Payment_ID')\n",
    "    \n",
    "    #get state data\n",
    "    state_query = f'SELECT * FROM {state_table}'\n",
    "    state = pd.read_sql(state_query, conn, index_col='State_ID')\n",
    "    \n",
    "    #get location data\n",
    "    location_query = f'SELECT * FROM {location_table}'\n",
    "    location = pd.read_sql(location_query, conn, index_col='Facility_ID')\n",
    "except Exception as e:\n",
    "    print(e)\n",
    "    \n",
    "payment.head()"
   ]
  },
  {
   "cell_type": "code",
   "execution_count": 28,
   "id": "b0d70f7a",
   "metadata": {},
   "outputs": [
    {
     "data": {
      "text/html": [
       "<div>\n",
       "<style scoped>\n",
       "    .dataframe tbody tr th:only-of-type {\n",
       "        vertical-align: middle;\n",
       "    }\n",
       "\n",
       "    .dataframe tbody tr th {\n",
       "        vertical-align: top;\n",
       "    }\n",
       "\n",
       "    .dataframe thead th {\n",
       "        text-align: right;\n",
       "    }\n",
       "</style>\n",
       "<table border=\"1\" class=\"dataframe\">\n",
       "  <thead>\n",
       "    <tr style=\"text-align: right;\">\n",
       "      <th></th>\n",
       "      <th>Facility_ID</th>\n",
       "      <th>Payment</th>\n",
       "      <th>Lower_Estimate</th>\n",
       "      <th>Higher_Estimate</th>\n",
       "      <th>Payment_Category</th>\n",
       "      <th>Value_Of_Care_Category</th>\n",
       "      <th>MSPB_Baseline</th>\n",
       "      <th>MSPB_Performance</th>\n",
       "      <th>HAI_Baseline</th>\n",
       "      <th>HAI_Performance</th>\n",
       "      <th>...</th>\n",
       "      <th>Discharge_Info_Perform</th>\n",
       "      <th>Overall_Rating_Baseline</th>\n",
       "      <th>Overall_Rating_Perform</th>\n",
       "      <th>Facility_Name</th>\n",
       "      <th>Location_City</th>\n",
       "      <th>Location_State</th>\n",
       "      <th>Location_Zip_Code</th>\n",
       "      <th>Location_County</th>\n",
       "      <th>State_ID</th>\n",
       "      <th>State_Name</th>\n",
       "    </tr>\n",
       "  </thead>\n",
       "  <tbody>\n",
       "    <tr>\n",
       "      <th>0</th>\n",
       "      <td>030064</td>\n",
       "      <td>20773.2500</td>\n",
       "      <td>18978.2500</td>\n",
       "      <td>22704.0000</td>\n",
       "      <td>0.25</td>\n",
       "      <td>0</td>\n",
       "      <td>0.968294</td>\n",
       "      <td>0.975835</td>\n",
       "      <td>0.617</td>\n",
       "      <td>0.733</td>\n",
       "      <td>...</td>\n",
       "      <td>85.326103</td>\n",
       "      <td>65.936401</td>\n",
       "      <td>67.765297</td>\n",
       "      <td>BANNER - UNIVERSITY MEDICAL CENTER TUCSON CAMPUS</td>\n",
       "      <td>TUCSON</td>\n",
       "      <td>AZ</td>\n",
       "      <td>85724</td>\n",
       "      <td>PIMA</td>\n",
       "      <td>4.0</td>\n",
       "      <td>Arizona</td>\n",
       "    </tr>\n",
       "    <tr>\n",
       "      <th>1</th>\n",
       "      <td>100140</td>\n",
       "      <td>18872.6667</td>\n",
       "      <td>17511.3333</td>\n",
       "      <td>20323.3333</td>\n",
       "      <td>-0.333333</td>\n",
       "      <td>0</td>\n",
       "      <td>0.963651</td>\n",
       "      <td>0.959826</td>\n",
       "      <td>0.153</td>\n",
       "      <td>0.313</td>\n",
       "      <td>...</td>\n",
       "      <td>87.005402</td>\n",
       "      <td>78.330299</td>\n",
       "      <td>78.791901</td>\n",
       "      <td>BAPTIST MEDICAL CENTER - NASSAU</td>\n",
       "      <td>FERNANDINA BEACH</td>\n",
       "      <td>FL</td>\n",
       "      <td>32034</td>\n",
       "      <td>NASSAU</td>\n",
       "      <td>12.0</td>\n",
       "      <td>Florida</td>\n",
       "    </tr>\n",
       "    <tr>\n",
       "      <th>2</th>\n",
       "      <td>100320</td>\n",
       "      <td>18230.0000</td>\n",
       "      <td>16388.5000</td>\n",
       "      <td>20246.5000</td>\n",
       "      <td>0</td>\n",
       "      <td>0</td>\n",
       "      <td>0.961516</td>\n",
       "      <td>0.896499</td>\n",
       "      <td>0.553</td>\n",
       "      <td>0.238</td>\n",
       "      <td>...</td>\n",
       "      <td>79.810799</td>\n",
       "      <td>64.692001</td>\n",
       "      <td>63.960098</td>\n",
       "      <td>POINCIANA MEDICAL CENTER</td>\n",
       "      <td>KISSIMMEE</td>\n",
       "      <td>FL</td>\n",
       "      <td>34758</td>\n",
       "      <td>OSCEOLA</td>\n",
       "      <td>12.0</td>\n",
       "      <td>Florida</td>\n",
       "    </tr>\n",
       "    <tr>\n",
       "      <th>3</th>\n",
       "      <td>140082</td>\n",
       "      <td>23510.5000</td>\n",
       "      <td>21425.0000</td>\n",
       "      <td>25796.5000</td>\n",
       "      <td>0.75</td>\n",
       "      <td>0</td>\n",
       "      <td>1.144005</td>\n",
       "      <td>1.063702</td>\n",
       "      <td>0.714</td>\n",
       "      <td>1.036</td>\n",
       "      <td>...</td>\n",
       "      <td>82.674301</td>\n",
       "      <td>58.588200</td>\n",
       "      <td>60.445801</td>\n",
       "      <td>LOUIS A WEISS MEMORIAL HOSPITAL</td>\n",
       "      <td>CHICAGO</td>\n",
       "      <td>IL</td>\n",
       "      <td>60640</td>\n",
       "      <td>COOK</td>\n",
       "      <td>17.0</td>\n",
       "      <td>Illinois</td>\n",
       "    </tr>\n",
       "    <tr>\n",
       "      <th>4</th>\n",
       "      <td>140124</td>\n",
       "      <td>20733.0000</td>\n",
       "      <td>18230.6667</td>\n",
       "      <td>23381.0000</td>\n",
       "      <td>-0.333333</td>\n",
       "      <td>0</td>\n",
       "      <td>0.913778</td>\n",
       "      <td>0.981520</td>\n",
       "      <td>0.867</td>\n",
       "      <td>0.733</td>\n",
       "      <td>...</td>\n",
       "      <td>80.776604</td>\n",
       "      <td>66.250000</td>\n",
       "      <td>64.392799</td>\n",
       "      <td>JOHN H STROGER JR HOSPITAL</td>\n",
       "      <td>CHICAGO</td>\n",
       "      <td>IL</td>\n",
       "      <td>60612</td>\n",
       "      <td>COOK</td>\n",
       "      <td>17.0</td>\n",
       "      <td>Illinois</td>\n",
       "    </tr>\n",
       "  </tbody>\n",
       "</table>\n",
       "<p>5 rows × 41 columns</p>\n",
       "</div>"
      ],
      "text/plain": [
       "  Facility_ID     Payment  Lower_Estimate  Higher_Estimate Payment_Category  \\\n",
       "0      030064  20773.2500      18978.2500       22704.0000             0.25   \n",
       "1      100140  18872.6667      17511.3333       20323.3333        -0.333333   \n",
       "2      100320  18230.0000      16388.5000       20246.5000                0   \n",
       "3      140082  23510.5000      21425.0000       25796.5000             0.75   \n",
       "4      140124  20733.0000      18230.6667       23381.0000        -0.333333   \n",
       "\n",
       "  Value_Of_Care_Category  MSPB_Baseline  MSPB_Performance  HAI_Baseline  \\\n",
       "0                      0       0.968294          0.975835         0.617   \n",
       "1                      0       0.963651          0.959826         0.153   \n",
       "2                      0       0.961516          0.896499         0.553   \n",
       "3                      0       1.144005          1.063702         0.714   \n",
       "4                      0       0.913778          0.981520         0.867   \n",
       "\n",
       "   HAI_Performance  ...  Discharge_Info_Perform  Overall_Rating_Baseline  \\\n",
       "0            0.733  ...               85.326103                65.936401   \n",
       "1            0.313  ...               87.005402                78.330299   \n",
       "2            0.238  ...               79.810799                64.692001   \n",
       "3            1.036  ...               82.674301                58.588200   \n",
       "4            0.733  ...               80.776604                66.250000   \n",
       "\n",
       "   Overall_Rating_Perform                                     Facility_Name  \\\n",
       "0               67.765297  BANNER - UNIVERSITY MEDICAL CENTER TUCSON CAMPUS   \n",
       "1               78.791901                   BAPTIST MEDICAL CENTER - NASSAU   \n",
       "2               63.960098                          POINCIANA MEDICAL CENTER   \n",
       "3               60.445801                   LOUIS A WEISS MEMORIAL HOSPITAL   \n",
       "4               64.392799                        JOHN H STROGER JR HOSPITAL   \n",
       "\n",
       "      Location_City  Location_State  Location_Zip_Code  Location_County  \\\n",
       "0            TUCSON              AZ              85724             PIMA   \n",
       "1  FERNANDINA BEACH              FL              32034           NASSAU   \n",
       "2         KISSIMMEE              FL              34758          OSCEOLA   \n",
       "3           CHICAGO              IL              60640             COOK   \n",
       "4           CHICAGO              IL              60612             COOK   \n",
       "\n",
       "   State_ID  State_Name  \n",
       "0       4.0     Arizona  \n",
       "1      12.0     Florida  \n",
       "2      12.0     Florida  \n",
       "3      17.0    Illinois  \n",
       "4      17.0    Illinois  \n",
       "\n",
       "[5 rows x 41 columns]"
      ]
     },
     "execution_count": 28,
     "metadata": {},
     "output_type": "execute_result"
    }
   ],
   "source": [
    "joined = efficiency.merge(safety, on='Facility_ID', how='inner')\n",
    "joined_1  = joined.merge(outcomes, on='Facility_ID', how='inner')\n",
    "joined_2 = joined_1.merge(community, on='Facility_ID', how='inner')\n",
    "joined_3 = joined_2.merge(location, on='Facility_ID', how='left')\n",
    "joined_4 = joined_3.merge(state, on='State_ID', how='left')\n",
    "final_join = payment.merge(joined_4, on='Facility_ID', how='inner')\n",
    "final_join.head()"
   ]
  },
  {
   "cell_type": "code",
   "execution_count": 29,
   "id": "60c95723",
   "metadata": {},
   "outputs": [],
   "source": [
    "final_join.dtypes\n",
    "dropped = final_join.drop(['Facility_ID', 'Facility_Name', 'Location_City', 'Location_State', 'Location_Zip_Code', 'Location_County', 'State_Name'], axis=1)"
   ]
  },
  {
   "cell_type": "code",
   "execution_count": 30,
   "id": "cd6fbc2f",
   "metadata": {},
   "outputs": [],
   "source": [
    "# label encode categorical columns appropriatelyl\n",
    "dropped['Payment_Category'] = dropped['Payment_Category'].astype('category').cat.codes\n",
    "dropped['Value_Of_Care_Category'] = dropped['Value_Of_Care_Category'].astype('category').cat.codes"
   ]
  },
  {
   "cell_type": "code",
   "execution_count": 37,
   "id": "d170636b",
   "metadata": {},
   "outputs": [
    {
     "data": {
      "text/plain": [
       "Payment                     float64\n",
       "Lower_Estimate              float64\n",
       "Higher_Estimate             float64\n",
       "Payment_Category               int8\n",
       "Value_Of_Care_Category         int8\n",
       "MSPB_Baseline               float64\n",
       "MSPB_Performance            float64\n",
       "HAI_Baseline                float64\n",
       "HAI_Performance             float64\n",
       "MORT_AMI_Baseline           float64\n",
       "MORT_AMI_Perform            float64\n",
       "MORT_HF_Baseline            float64\n",
       "MORT_HF_Perform             float64\n",
       "MORT_PN_Baseline            float64\n",
       "MORT_PN_Perform             float64\n",
       "COMP_HIP_KNEE_Baseline      float64\n",
       "COMP_HIP_KNEE_Perform       float64\n",
       "Comm_Nurses_Baseline        float64\n",
       "Comm_Nurses_Perform         float64\n",
       "Comm_Doctors_Baseline       float64\n",
       "Comm_Doctors_Perform        float64\n",
       "Comm_Hospital_Baseline      float64\n",
       "Comm_Hospital_Perform       float64\n",
       "Care_Transition_Baseline    float64\n",
       "Care_Transition_Perform     float64\n",
       "Comm_Medicines_Baseline     float64\n",
       "Comm_Medicines_Perform      float64\n",
       "Clean_Quiet_Baseline        float64\n",
       "Clean_Quiet_Perform         float64\n",
       "Discharge_Info_Baseline     float64\n",
       "Discharge_Info_Perform      float64\n",
       "Overall_Rating_Baseline     float64\n",
       "Overall_Rating_Perform      float64\n",
       "State_ID                    float64\n",
       "dtype: object"
      ]
     },
     "execution_count": 37,
     "metadata": {},
     "output_type": "execute_result"
    }
   ],
   "source": [
    "dropped.dtypes"
   ]
  },
  {
   "cell_type": "markdown",
   "id": "3502b3f8",
   "metadata": {},
   "source": [
    "#### Payment Estimates Model"
   ]
  },
  {
   "cell_type": "code",
   "execution_count": 32,
   "id": "6d55c16f",
   "metadata": {},
   "outputs": [],
   "source": [
    "# ml imports\n",
    "from sklearn.model_selection import train_test_split, GridSearchCV\n",
    "from sklearn.linear_model import LinearRegression\n",
    "from sklearn.metrics import r2_score\n",
    "import joblib"
   ]
  },
  {
   "cell_type": "code",
   "execution_count": 33,
   "id": "3d7e966c",
   "metadata": {},
   "outputs": [
    {
     "name": "stdout",
     "output_type": "stream",
     "text": [
      "0.9998155914442716\n"
     ]
    }
   ],
   "source": [
    "X = dropped[['Lower_Estimate', 'Higher_Estimate']]\n",
    "y = dropped['Payment']\n",
    "\n",
    "X_train, X_test, y_train, y_test = train_test_split(X, y, test_size=0.2, random_state=42)\n",
    "\n",
    "lnrg = LinearRegression()\n",
    "lnrg = lnrg.fit(X_train, y_train)\n",
    "y_preds = lnrg.predict(X_test)\n",
    "print(r2_score(y_test, y_preds))"
   ]
  },
  {
   "cell_type": "code",
   "execution_count": 34,
   "id": "d121bcc0",
   "metadata": {},
   "outputs": [],
   "source": [
    "# saving/exporting model\n",
    "estimates_model = joblib.dump(lnrg, 'estimates_model.model')"
   ]
  },
  {
   "cell_type": "markdown",
   "id": "5a88f2fc",
   "metadata": {},
   "source": [
    "#### Linear Regression Payment Model"
   ]
  },
  {
   "cell_type": "code",
   "execution_count": 40,
   "id": "e0dca63b",
   "metadata": {},
   "outputs": [],
   "source": [
    "X = dropped.drop(['Payment', 'Higher_Estimate', 'Lower_Estimate'], axis=1)\n",
    "y = dropped['Payment']\n",
    "\n",
    "X_train, X_test, y_train, y_test = train_test_split(X, y, test_size=0.2, random_state=42)"
   ]
  },
  {
   "cell_type": "code",
   "execution_count": 41,
   "id": "be034add",
   "metadata": {},
   "outputs": [
    {
     "name": "stdout",
     "output_type": "stream",
     "text": [
      "0.4863452935040169\n"
     ]
    }
   ],
   "source": [
    "lnrg = LinearRegression()\n",
    "lnrg = lnrg.fit(X_train, y_train)\n",
    "y_preds = lnrg.predict(X_test)\n",
    "print(r2_score(y_test, y_preds))"
   ]
  },
  {
   "cell_type": "markdown",
   "id": "d36c12b5",
   "metadata": {},
   "source": [
    "#### Lasso Regression Payment Model"
   ]
  },
  {
   "cell_type": "code",
   "execution_count": 42,
   "id": "b3124d80",
   "metadata": {},
   "outputs": [
    {
     "name": "stdout",
     "output_type": "stream",
     "text": [
      "0.4873230031637571\n"
     ]
    }
   ],
   "source": [
    "from sklearn.linear_model import Lasso\n",
    "\n",
    "la_params = {'alpha': [0.0001,0.001,0.01,0.1,1,10,100]}\n",
    "\n",
    "larg = Lasso()\n",
    "la_grid = GridSearchCV(larg, la_params, scoring='r2', cv=5)\n",
    "la_grid.fit(X_train, y_train)\n",
    "y_preds = la_grid.predict(X_test)\n",
    "print(r2_score(y_test, y_preds))"
   ]
  },
  {
   "cell_type": "markdown",
   "id": "2ce53659",
   "metadata": {},
   "source": [
    "#### Random Forest Regressor Model"
   ]
  },
  {
   "cell_type": "code",
   "execution_count": 43,
   "id": "7d05fa43",
   "metadata": {},
   "outputs": [
    {
     "name": "stdout",
     "output_type": "stream",
     "text": [
      "0.7061155998042232\n"
     ]
    }
   ],
   "source": [
    "from sklearn.ensemble import RandomForestRegressor\n",
    "\n",
    "rf_params = { \"n_estimators\"      : [10,20,30],\n",
    "              \"max_features\"      : ['sqrt', 'log2'],\n",
    "              \"min_samples_split\" : [2,4,8],\n",
    "              \"bootstrap\": [True, False],\n",
    "            }\n",
    "\n",
    "rfrg = RandomForestRegressor()\n",
    "rf_grid = GridSearchCV(rfrg, rf_params, scoring='r2', cv=5)\n",
    "rf_grid.fit(X_train, y_train)\n",
    "y_preds = rf_grid.predict(X_test)\n",
    "print(r2_score(y_test, y_preds))"
   ]
  },
  {
   "cell_type": "markdown",
   "id": "4adee817",
   "metadata": {},
   "source": [
    "#### XGBoost Model"
   ]
  },
  {
   "cell_type": "code",
   "execution_count": 46,
   "id": "265f674e",
   "metadata": {},
   "outputs": [
    {
     "name": "stdout",
     "output_type": "stream",
     "text": [
      "0.7993413586203597\n"
     ]
    }
   ],
   "source": [
    "from xgboost import XGBRegressor\n",
    "\n",
    "xg_params = {\"learning_rate\": (0.05, 0.10, 0.15),\n",
    "            \"max_depth\": [ 3, 4, 5, 6, 8],\n",
    "            \"min_child_weight\": [ 1, 3, 5, 7],\n",
    "            \"gamma\":[ 0.0, 0.1, 0.2],\n",
    "            \"colsample_bytree\":[ 0.3, 0.4],}\n",
    "\n",
    "xgrg = XGBRegressor()\n",
    "xg_grid = GridSearchCV(xgrg, xg_params, scoring='r2', cv=5)\n",
    "xg_grid.fit(X_train, y_train)\n",
    "y_preds = xg_grid.predict(X_test)\n",
    "print(r2_score(y_test, y_preds))"
   ]
  },
  {
   "cell_type": "code",
   "execution_count": 48,
   "id": "c849cf1f",
   "metadata": {},
   "outputs": [
    {
     "data": {
      "text/plain": [
       "{'colsample_bytree': 0.4,\n",
       " 'gamma': 0.0,\n",
       " 'learning_rate': 0.1,\n",
       " 'max_depth': 3,\n",
       " 'min_child_weight': 7}"
      ]
     },
     "execution_count": 48,
     "metadata": {},
     "output_type": "execute_result"
    }
   ],
   "source": [
    "xg_grid.best_params_"
   ]
  },
  {
   "cell_type": "code",
   "execution_count": null,
   "id": "c0bbf73e",
   "metadata": {},
   "outputs": [],
   "source": [
    "# shippin' it\n",
    "joblib.dump(xg_grid, '')"
   ]
  }
 ],
 "metadata": {
  "kernelspec": {
   "display_name": "env",
   "language": "python",
   "name": "env"
  },
  "language_info": {
   "codemirror_mode": {
    "name": "ipython",
    "version": 3
   },
   "file_extension": ".py",
   "mimetype": "text/x-python",
   "name": "python",
   "nbconvert_exporter": "python",
   "pygments_lexer": "ipython3",
   "version": "3.9.12"
  }
 },
 "nbformat": 4,
 "nbformat_minor": 5
}
