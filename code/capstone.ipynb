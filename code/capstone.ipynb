{
 "cells": [
  {
   "cell_type": "code",
   "execution_count": 1,
   "id": "5bee2f8c",
   "metadata": {},
   "outputs": [],
   "source": [
    "import pandas as pd\n",
    "import numpy as np\n",
    "import pymssql\n",
    "import yaml\n",
    "from yaml import Loader"
   ]
  },
  {
   "cell_type": "code",
   "execution_count": 2,
   "id": "fc372438",
   "metadata": {},
   "outputs": [],
   "source": [
    "with open('secrets.yaml', 'r') as f:\n",
    "    configs = yaml.load(f, Loader=Loader)"
   ]
  },
  {
   "cell_type": "code",
   "execution_count": 3,
   "id": "0c7cf2dc",
   "metadata": {},
   "outputs": [
    {
     "name": "stderr",
     "output_type": "stream",
     "text": [
      "/home/charlie/anaconda3/lib/python3.9/site-packages/pandas/io/sql.py:761: UserWarning: pandas only support SQLAlchemy connectable(engine/connection) ordatabase string URI or sqlite3 DBAPI2 connectionother DBAPI2 objects are not tested, please consider using SQLAlchemy\n",
      "  warnings.warn(\n",
      "/home/charlie/anaconda3/lib/python3.9/site-packages/pandas/io/sql.py:761: UserWarning: pandas only support SQLAlchemy connectable(engine/connection) ordatabase string URI or sqlite3 DBAPI2 connectionother DBAPI2 objects are not tested, please consider using SQLAlchemy\n",
      "  warnings.warn(\n",
      "/home/charlie/anaconda3/lib/python3.9/site-packages/pandas/io/sql.py:761: UserWarning: pandas only support SQLAlchemy connectable(engine/connection) ordatabase string URI or sqlite3 DBAPI2 connectionother DBAPI2 objects are not tested, please consider using SQLAlchemy\n",
      "  warnings.warn(\n",
      "/home/charlie/anaconda3/lib/python3.9/site-packages/pandas/io/sql.py:761: UserWarning: pandas only support SQLAlchemy connectable(engine/connection) ordatabase string URI or sqlite3 DBAPI2 connectionother DBAPI2 objects are not tested, please consider using SQLAlchemy\n",
      "  warnings.warn(\n",
      "/home/charlie/anaconda3/lib/python3.9/site-packages/pandas/io/sql.py:761: UserWarning: pandas only support SQLAlchemy connectable(engine/connection) ordatabase string URI or sqlite3 DBAPI2 connectionother DBAPI2 objects are not tested, please consider using SQLAlchemy\n",
      "  warnings.warn(\n"
     ]
    },
    {
     "data": {
      "text/html": [
       "<div>\n",
       "<style scoped>\n",
       "    .dataframe tbody tr th:only-of-type {\n",
       "        vertical-align: middle;\n",
       "    }\n",
       "\n",
       "    .dataframe tbody tr th {\n",
       "        vertical-align: top;\n",
       "    }\n",
       "\n",
       "    .dataframe thead th {\n",
       "        text-align: right;\n",
       "    }\n",
       "</style>\n",
       "<table border=\"1\" class=\"dataframe\">\n",
       "  <thead>\n",
       "    <tr style=\"text-align: right;\">\n",
       "      <th></th>\n",
       "      <th>Facility_ID</th>\n",
       "      <th>Payment</th>\n",
       "      <th>Lower_Estimate</th>\n",
       "      <th>Higher_Estimate</th>\n",
       "      <th>Payment_Category</th>\n",
       "      <th>Value_Of_Care_Category</th>\n",
       "    </tr>\n",
       "    <tr>\n",
       "      <th>Payment_ID</th>\n",
       "      <th></th>\n",
       "      <th></th>\n",
       "      <th></th>\n",
       "      <th></th>\n",
       "      <th></th>\n",
       "      <th></th>\n",
       "    </tr>\n",
       "  </thead>\n",
       "  <tbody>\n",
       "    <tr>\n",
       "      <th>1</th>\n",
       "      <td>020018</td>\n",
       "      <td>13461.0000</td>\n",
       "      <td>11689.5000</td>\n",
       "      <td>15405.5000</td>\n",
       "      <td>-0.5</td>\n",
       "      <td>-0.5</td>\n",
       "    </tr>\n",
       "    <tr>\n",
       "      <th>2</th>\n",
       "      <td>030064</td>\n",
       "      <td>20773.2500</td>\n",
       "      <td>18978.2500</td>\n",
       "      <td>22704.0000</td>\n",
       "      <td>0.25</td>\n",
       "      <td>0</td>\n",
       "    </tr>\n",
       "    <tr>\n",
       "      <th>3</th>\n",
       "      <td>100140</td>\n",
       "      <td>18872.6667</td>\n",
       "      <td>17511.3333</td>\n",
       "      <td>20323.3333</td>\n",
       "      <td>-0.333333</td>\n",
       "      <td>0</td>\n",
       "    </tr>\n",
       "    <tr>\n",
       "      <th>4</th>\n",
       "      <td>100320</td>\n",
       "      <td>18230.0000</td>\n",
       "      <td>16388.5000</td>\n",
       "      <td>20246.5000</td>\n",
       "      <td>0</td>\n",
       "      <td>0</td>\n",
       "    </tr>\n",
       "    <tr>\n",
       "      <th>5</th>\n",
       "      <td>110071</td>\n",
       "      <td>18356.0000</td>\n",
       "      <td>15727.0000</td>\n",
       "      <td>20892.0000</td>\n",
       "      <td>0</td>\n",
       "      <td>0</td>\n",
       "    </tr>\n",
       "  </tbody>\n",
       "</table>\n",
       "</div>"
      ],
      "text/plain": [
       "           Facility_ID     Payment  Lower_Estimate  Higher_Estimate  \\\n",
       "Payment_ID                                                            \n",
       "1               020018  13461.0000      11689.5000       15405.5000   \n",
       "2               030064  20773.2500      18978.2500       22704.0000   \n",
       "3               100140  18872.6667      17511.3333       20323.3333   \n",
       "4               100320  18230.0000      16388.5000       20246.5000   \n",
       "5               110071  18356.0000      15727.0000       20892.0000   \n",
       "\n",
       "           Payment_Category Value_Of_Care_Category  \n",
       "Payment_ID                                          \n",
       "1                      -0.5                   -0.5  \n",
       "2                      0.25                      0  \n",
       "3                 -0.333333                      0  \n",
       "4                         0                      0  \n",
       "5                         0                      0  "
      ]
     },
     "execution_count": 3,
     "metadata": {},
     "output_type": "execute_result"
    }
   ],
   "source": [
    "\n",
    "server = configs['data']['server']\n",
    "user = configs['data']['user']\n",
    "password = configs['data']['password']\n",
    "database = configs['data']['database']\n",
    "\n",
    "# define table strings\n",
    "efficiency_table = 'dbo.EfficiencyScores'\n",
    "safety_table = 'dbo.SafetyScores'\n",
    "outcomes_table = 'dbo.ClinicalOutcomeScores'\n",
    "community_table = 'dbo.EngagementScores'\n",
    "payment_table = 'PaymentAndValueOfCareVals'\n",
    "\n",
    "try:\n",
    "    # connect to database with above credentials\n",
    "    conn = pymssql.connect(server, user, password, database)\n",
    "    \n",
    "    # instantiate cursor\n",
    "    cursor = conn.cursor()\n",
    "    \n",
    "    # get efficiency data\n",
    "    efficiency_query = f'SELECT * FROM {efficiency_table}'\n",
    "    efficiency = pd.read_sql(efficiency_query, conn, index_col='Efficiency_ID')\n",
    "    \n",
    "    # get safety data\n",
    "    safety_query = f'SELECT * FROM {safety_table}'\n",
    "    safety = pd.read_sql(safety_query, conn, index_col='Safety_ID')\n",
    "    \n",
    "    # get outcomes data\n",
    "    outcomes_query = f'SELECT * FROM {outcomes_table}'\n",
    "    outcomes = pd.read_sql(outcomes_query, conn, index_col='ClinicalOutcome_ID')\n",
    "    \n",
    "    # get community data\n",
    "    community_query = f'SELECT * FROM {community_table}'\n",
    "    community = pd.read_sql(community_query, conn, 'EngagementScore_ID')\n",
    "    \n",
    "    #get payment data\n",
    "    payment_query = f'SELECT * FROM {payment_table}'\n",
    "    payment = pd.read_sql(payment_query, conn, index_col='Payment_ID')\n",
    "except Exception as e:\n",
    "    print(e)\n",
    "    \n",
    "payment.head()"
   ]
  },
  {
   "cell_type": "code",
   "execution_count": 4,
   "id": "6eca5109",
   "metadata": {},
   "outputs": [],
   "source": [
    "joined = efficiency.merge(safety, on='Facility_ID', how='inner')\n",
    "joined_1  = joined.merge(outcomes, on='Facility_ID', how='inner')\n",
    "joined_2 = joined.merge(community, on='Facility_ID', how='inner')\n",
    "final_join = payment.merge(joined_2, on='Facility_ID', how='left')"
   ]
  },
  {
   "cell_type": "markdown",
   "id": "06462ee8",
   "metadata": {},
   "source": [
    "#### Payment Estimates Model"
   ]
  },
  {
   "cell_type": "code",
   "execution_count": 13,
   "id": "3df89be2",
   "metadata": {},
   "outputs": [],
   "source": [
    "# ml imports\n",
    "from sklearn.model_selection import train_test_split\n",
    "from sklearn.linear_model import LinearRegression\n",
    "from sklearn.metrics import r2_score\n",
    "import joblib"
   ]
  },
  {
   "cell_type": "code",
   "execution_count": 12,
   "id": "9309cdaa",
   "metadata": {},
   "outputs": [
    {
     "name": "stdout",
     "output_type": "stream",
     "text": [
      "0.9996244230990997\n"
     ]
    }
   ],
   "source": [
    "X = final_join[['Lower_Estimate', 'Higher_Estimate']]\n",
    "y = final_join['Payment']\n",
    "\n",
    "X_train, X_test, y_train, y_test = train_test_split(X, y, test_size=0.2, random_state=42)\n",
    "\n",
    "lnrg = LinearRegression()\n",
    "lnrg = lnrg.fit(X_train, y_train)\n",
    "y_preds = lnrg.predict(X_test)\n",
    "print(r2_score(y_test, y_preds))"
   ]
  },
  {
   "cell_type": "code",
   "execution_count": null,
   "id": "5aed7b6d",
   "metadata": {},
   "outputs": [],
   "source": [
    "estimates_model = joblib.dump(lnrg, )"
   ]
  }
 ],
 "metadata": {
  "kernelspec": {
   "display_name": "Python 3 (ipykernel)",
   "language": "python",
   "name": "python3"
  },
  "language_info": {
   "codemirror_mode": {
    "name": "ipython",
    "version": 3
   },
   "file_extension": ".py",
   "mimetype": "text/x-python",
   "name": "python",
   "nbconvert_exporter": "python",
   "pygments_lexer": "ipython3",
   "version": "3.9.12"
  }
 },
 "nbformat": 4,
 "nbformat_minor": 5
}
